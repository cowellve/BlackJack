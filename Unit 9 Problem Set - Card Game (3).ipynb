{
 "cells": [
  {
   "cell_type": "markdown",
   "metadata": {},
   "source": [
    "# Unit 9 Problem Set\n",
    "\n",
    "In this problem set we will build a set of classes that will be used to play the card game Blackjack. If you have never played, then you can find the simple rules here: https://www.bicyclecards.com/how-to-play/blackjack/\n"
   ]
  },
  {
   "cell_type": "markdown",
   "metadata": {},
   "source": [
    "## The Card class"
   ]
  },
  {
   "cell_type": "markdown",
   "metadata": {},
   "source": [
    "1.Think about a deck of cards. What do you need to know in order to tell one card from another? \n",
    "\n",
    "There are thirteen different ranks, from Ace to King. There are four different suits: Clubs, Diamonds, Hearts, and Spades. So, to know everything about a single card you need its rank and its suit. In card games such as blackjack, where the cards are worth a certain number of points, it is also helpful to have a third variable, called value that is an integer related to a card's rank. The values of the cards are [2,3,4,5,6,7,8,9,10,10,10,10,11], respectively (meaning, the Jack, King, Queen, and 10 have a value of 10 and the Ace has a value of 11).\n",
    "\n",
    "Create a **class** named **Card**. Include three **attributes**: **rank** and **suit** (both strings) and **value** (int). Don't forget the initializing (__init__) and the toString (__str__) methods.\n",
    "\n",
    "Test that you can create a few cards. Make several instances of different cards: try Ace of Spades and Eight of Hearts. "
   ]
  },
  {
   "cell_type": "code",
   "execution_count": 5,
   "metadata": {},
   "outputs": [
    {
     "name": "stdout",
     "output_type": "stream",
     "text": [
      "ace of spades 11\n"
     ]
    }
   ],
   "source": [
    "class Card:\n",
    "    def __init__(self,rank,suit,value):\n",
    "        self.rank= rank\n",
    "        self.suit = suit\n",
    "        self.value = value\n",
    "        \n",
    "    def __str__(self):\n",
    "        return f'{self.rank} of {self.suit} {self.value}'\n",
    "    \n",
    "c = Card(\"ace\",\"spades\",11)\n",
    "print(c)"
   ]
  },
  {
   "cell_type": "markdown",
   "metadata": {},
   "source": [
    "## The Deck class"
   ]
  },
  {
   "cell_type": "markdown",
   "metadata": {},
   "source": [
    "2.A typical deck of cards has one of each rank in one of each suit, for a total of 52 cards. Create a **class** named **Deck**. The **attribute** of our Deck class will be a single list of 52 Card objects named **cards**.\n",
    "\n",
    "To do this, you will need to send three lists to the initializing method as input: ranks, suits, and values. Then use a double for-loop to create the Cards (by calling the initializing method of the Card Class) and append them to the list called cards. To help, here are three lists that you can copy and paste in your code below:\n",
    "\n",
    "ranks = ['Two','Three','Four','Five','Six','Seven','Eight','Nine','Ten','Jack','Queen','King','Ace']\n",
    "\n",
    "suits = ['Clubs', 'Diamonds', 'Hearts', 'Spades']\n",
    "\n",
    "values = [2,3,4,5,6,7,8,9,10,10,10,10,11]"
   ]
  },
  {
   "cell_type": "code",
   "execution_count": 6,
   "metadata": {},
   "outputs": [
    {
     "name": "stdout",
     "output_type": "stream",
     "text": [
      "Two of Clubs 2\n",
      "Three of Clubs 3\n",
      "Four of Clubs 4\n",
      "Five of Clubs 5\n",
      "Six of Clubs 6\n",
      "Seven of Clubs 7\n",
      "Eight of Clubs 8\n",
      "Nine of Clubs 9\n",
      "Ten of Clubs 10\n",
      "Jack of Clubs 10\n",
      "Queen of Clubs 10\n",
      "King of Clubs 10\n",
      "Ace of Clubs 11\n",
      "Two of Diamonds 2\n",
      "Three of Diamonds 3\n",
      "Four of Diamonds 4\n",
      "Five of Diamonds 5\n",
      "Six of Diamonds 6\n",
      "Seven of Diamonds 7\n",
      "Eight of Diamonds 8\n",
      "Nine of Diamonds 9\n",
      "Ten of Diamonds 10\n",
      "Jack of Diamonds 10\n",
      "Queen of Diamonds 10\n",
      "King of Diamonds 10\n",
      "Ace of Diamonds 11\n",
      "Two of Hearts 2\n",
      "Three of Hearts 3\n",
      "Four of Hearts 4\n",
      "Five of Hearts 5\n",
      "Six of Hearts 6\n",
      "Seven of Hearts 7\n",
      "Eight of Hearts 8\n",
      "Nine of Hearts 9\n",
      "Ten of Hearts 10\n",
      "Jack of Hearts 10\n",
      "Queen of Hearts 10\n",
      "King of Hearts 10\n",
      "Ace of Hearts 11\n",
      "Two of Spades 2\n",
      "Three of Spades 3\n",
      "Four of Spades 4\n",
      "Five of Spades 5\n",
      "Six of Spades 6\n",
      "Seven of Spades 7\n",
      "Eight of Spades 8\n",
      "Nine of Spades 9\n",
      "Ten of Spades 10\n",
      "Jack of Spades 10\n",
      "Queen of Spades 10\n",
      "King of Spades 10\n",
      "Ace of Spades 11\n",
      "\n"
     ]
    }
   ],
   "source": [
    "ranks = ['Two','Three','Four','Five','Six','Seven','Eight','Nine','Ten','Jack','Queen','King','Ace']\n",
    "suits = ['Clubs', 'Diamonds', 'Hearts', 'Spades']\n",
    "values = [2,3,4,5,6,7,8,9,10,10,10,10,11]\n",
    "\n",
    "class Deck:\n",
    "    def __init__(self,ranks,suits,values):\n",
    "        self.cards = []\n",
    "        for suit in suits:\n",
    "            for rank in ranks:\n",
    "                self.cards.append(Card(rank,suit,values[ranks.index(rank)]))\n",
    "    def __str__(self):\n",
    "        fstring = f''\n",
    "        for card in self.cards:\n",
    "            fstring += f'{card}\\n'\n",
    "        return fstring\n",
    "d = Deck(ranks,suits,values)\n",
    "print(d)\n"
   ]
  },
  {
   "cell_type": "code",
   "execution_count": null,
   "metadata": {},
   "outputs": [],
   "source": []
  },
  {
   "cell_type": "markdown",
   "metadata": {},
   "source": [
    "3.One obvious **method** that you will need is a **shuffle()** method that shuffles the deck **in place**. This method should reorder the deck randomly. There are many ways to do this, but luckily, the Python random package has a shuffle method built in that shuffles a list in place! \n",
    "\n",
    "Finally, create a method called **get_top_card()**. This method should **return** the card with index 0, and remove it from the deck **in place**."
   ]
  },
  {
   "cell_type": "code",
   "execution_count": 7,
   "metadata": {},
   "outputs": [
    {
     "name": "stdout",
     "output_type": "stream",
     "text": [
      "King of Clubs 10\n"
     ]
    }
   ],
   "source": [
    "import random\n",
    "ranks = ['Two','Three','Four','Five','Six','Seven','Eight','Nine','Ten','Jack','Queen','King','Ace']\n",
    "suits = ['Clubs', 'Diamonds', 'Hearts', 'Spades']\n",
    "values = [2,3,4,5,6,7,8,9,10,10,10,10,11]\n",
    "\n",
    "class Deck:\n",
    "    def __init__(self,ranks,suits,values):\n",
    "        self.cards = []\n",
    "        for suit in suits:\n",
    "            for rank in ranks:\n",
    "                self.cards.append(Card(rank,suit,values[ranks.index(rank)]))\n",
    "    def shuffle(self):\n",
    "        random.shuffle(self.cards)\n",
    "        \n",
    "        \n",
    "    def get_top_card(self):\n",
    "        top_card = self.cards[0]\n",
    "        self.cards.remove(self.cards[0])\n",
    "        return top_card\n",
    "         \n",
    "            \n",
    "        \n",
    "        \n",
    "        \n",
    "    def __str__(self):\n",
    "        for card in self.cards:\n",
    "            print(card)\n",
    "d = Deck(ranks,suits,values)\n",
    "d.shuffle()\n",
    "print(d.get_top_card())\n"
   ]
  },
  {
   "cell_type": "markdown",
   "metadata": {},
   "source": [
    "4.Use the cell below to test your deck method. Hint: check the length of your deck to make sure that the get_top_card method is removing a card from the deck. Also check that your deck is getting randomly shuffled. Insert some test code below."
   ]
  },
  {
   "cell_type": "code",
   "execution_count": 8,
   "metadata": {},
   "outputs": [
    {
     "name": "stdout",
     "output_type": "stream",
     "text": [
      "Seven of Diamonds 7\n",
      "King of Clubs 10\n",
      "Ten of Diamonds 10\n",
      "Ace of Clubs 11\n",
      "Three of Spades 3\n",
      "Nine of Diamonds 9\n",
      "Two of Hearts 2\n",
      "Six of Clubs 6\n",
      "Two of Spades 2\n",
      "Eight of Diamonds 8\n",
      "Five of Hearts 5\n",
      "Jack of Diamonds 10\n",
      "Six of Spades 6\n",
      "Nine of Spades 9\n",
      "Four of Diamonds 4\n",
      "Ace of Hearts 11\n",
      "Three of Clubs 3\n",
      "Ten of Spades 10\n",
      "Jack of Clubs 10\n",
      "Three of Hearts 3\n",
      "Seven of Hearts 7\n",
      "Queen of Clubs 10\n",
      "Nine of Clubs 9\n",
      "Seven of Spades 7\n",
      "King of Hearts 10\n",
      "Jack of Spades 10\n",
      "Two of Clubs 2\n",
      "King of Spades 10\n",
      "Queen of Hearts 10\n",
      "Jack of Hearts 10\n",
      "Ten of Clubs 10\n",
      "Eight of Spades 8\n",
      "Queen of Spades 10\n",
      "Four of Spades 4\n",
      "Four of Hearts 4\n",
      "Five of Spades 5\n",
      "Six of Diamonds 6\n",
      "Ace of Spades 11\n",
      "King of Diamonds 10\n",
      "Nine of Hearts 9\n",
      "Five of Diamonds 5\n",
      "Ten of Hearts 10\n",
      "Four of Clubs 4\n",
      "Queen of Diamonds 10\n",
      "Two of Diamonds 2\n",
      "Ace of Diamonds 11\n",
      "Five of Clubs 5\n",
      "Six of Hearts 6\n",
      "Eight of Hearts 8\n",
      "Three of Diamonds 3\n",
      "Seven of Clubs 7\n",
      "Eight of Clubs 8\n"
     ]
    },
    {
     "ename": "TypeError",
     "evalue": "__str__ returned non-string (type NoneType)",
     "output_type": "error",
     "traceback": [
      "\u001b[0;31m---------------------------------------------------------------------------\u001b[0m",
      "\u001b[0;31mTypeError\u001b[0m                                 Traceback (most recent call last)",
      "\u001b[0;32m<ipython-input-8-a77df62a315f>\u001b[0m in \u001b[0;36m<module>\u001b[0;34m()\u001b[0m\n\u001b[1;32m     24\u001b[0m \u001b[0md\u001b[0m \u001b[0;34m=\u001b[0m \u001b[0mDeck\u001b[0m\u001b[0;34m(\u001b[0m\u001b[0mranks\u001b[0m\u001b[0;34m,\u001b[0m\u001b[0msuits\u001b[0m\u001b[0;34m,\u001b[0m\u001b[0mvalues\u001b[0m\u001b[0;34m)\u001b[0m\u001b[0;34m\u001b[0m\u001b[0m\n\u001b[1;32m     25\u001b[0m \u001b[0md\u001b[0m\u001b[0;34m.\u001b[0m\u001b[0mshuffle\u001b[0m\u001b[0;34m(\u001b[0m\u001b[0;34m)\u001b[0m\u001b[0;34m\u001b[0m\u001b[0m\n\u001b[0;32m---> 26\u001b[0;31m \u001b[0mprint\u001b[0m\u001b[0;34m(\u001b[0m\u001b[0md\u001b[0m\u001b[0;34m)\u001b[0m\u001b[0;34m\u001b[0m\u001b[0m\n\u001b[0m\u001b[1;32m     27\u001b[0m \u001b[0;31m#i know it works because without the .remove code it prints the top card twice.\u001b[0m\u001b[0;34m\u001b[0m\u001b[0;34m\u001b[0m\u001b[0m\n",
      "\u001b[0;31mTypeError\u001b[0m: __str__ returned non-string (type NoneType)"
     ]
    }
   ],
   "source": [
    "import random\n",
    "ranks = ['Two','Three','Four','Five','Six','Seven','Eight','Nine','Ten','Jack','Queen','King','Ace']\n",
    "suits = ['Clubs', 'Diamonds', 'Hearts', 'Spades']\n",
    "values = [2,3,4,5,6,7,8,9,10,10,10,10,11]\n",
    "\n",
    "class Deck:\n",
    "    def __init__(self,ranks,suits,values):\n",
    "        self.cards = []\n",
    "        for suit in suits:\n",
    "            for rank in ranks:\n",
    "                self.cards.append(Card(rank,suit,values[ranks.index(rank)]))\n",
    "    def shuffle(self):\n",
    "        random.shuffle(self.cards)\n",
    "             \n",
    "    def get_top_card(self):\n",
    "        top_card = self.cards[0]\n",
    "        self.cards.remove(self.cards[0])\n",
    "        return top_card     \n",
    "        \n",
    "    def __str__(self):\n",
    "        for card in self.cards:\n",
    "            print(card)\n",
    "            \n",
    "d = Deck(ranks,suits,values)\n",
    "d.shuffle()\n",
    "print(d)\n",
    "#i know it works because without the .remove code it prints the top card twice."
   ]
  },
  {
   "cell_type": "markdown",
   "metadata": {},
   "source": [
    "## The Blackjack class"
   ]
  },
  {
   "cell_type": "markdown",
   "metadata": {},
   "source": [
    "When a 'single' program is built from several classes, it is common to have a runner class that is not intended to create objects. We will name our **runner class**, **Blackjack**. Since we will not be creating instances of this class, we do not need an initializing method. \n",
    "\n",
    "We will need **methods** as follows (notice that they are named so that anyone will know what they do):\n",
    "\n",
    "**player_turn()**, **computer_turn()**, **deal()**, **check_bust()**, **check_blackjack()**, **find_winner()**, and finally a **main** method to control the order of when methods will be called. See below for an outline of the main method. Your job is to finish the main and write the rest of the methods."
   ]
  },
  {
   "cell_type": "code",
   "execution_count": 45,
   "metadata": {},
   "outputs": [
    {
     "name": "stdout",
     "output_type": "stream",
     "text": [
      "player picked up: Seven of Clubs 7\n",
      "total:  7\n",
      "computer picked up: Five of Clubs 5\n",
      "total:  5\n",
      "player picked up: Queen of Spades 10\n",
      "total:  17\n",
      "computer picked up: Four of Hearts 4\n",
      "total:  9\n",
      "player total: 17\n",
      "would u like a new card yes or nono\n",
      "computer picked up: Six of Diamonds 6\n",
      "total:  15\n",
      "picked up: King of Diamonds 10\n",
      "total:  25\n",
      "bust\n",
      "player wins (comp busted)\n"
     ]
    }
   ],
   "source": [
    "class Blackjack:\n",
    "        \n",
    "        def deal(self, d, tally):\n",
    "            '''deals a single card and returns the new tally of all that player/'s cards''' \n",
    "            card = d.get_top_card()\n",
    "            tally += card.value \n",
    "            print(f'picked up: {card}')\n",
    "            print(f'total:  {tally}')\n",
    "            return tally\n",
    "        \n",
    "        def check_bust(self, tally):\n",
    "            '''returns True or False based on whether the tally is greater than 21'''\n",
    "            if tally > 21:\n",
    "                print('bust')\n",
    "                return True\n",
    "            else:\n",
    "                return False\n",
    "\n",
    "        \n",
    "        def check_blackjack(self, tally):\n",
    "            '''returns True or False based on whether the tally is equal to 21'''\n",
    "            if tally == 21:\n",
    "                return True\n",
    "            else:\n",
    "                return False\n",
    "            \n",
    "        #player method\n",
    "        def player_turn(self, d, player_sum):\n",
    "            '''Continues to ask the user if they want to choose a new card (and then chooses a card)\n",
    "            until the player busts or chooses to stop receiving more cards. It then returns the player_sum.'''\n",
    "            while self.check_bust(player_sum) == False and self.check_blackjack(player_sum) == False:\n",
    "                print('player ', end=\"\")\n",
    "                print(f'total: {player_sum}')\n",
    "                draw = input(\"would u like a new card yes or no\")\n",
    "                if draw == 'yes':\n",
    "                    if self.check_bust(player_sum) == False:\n",
    "                        print('player ',end = '')\n",
    "                        player_sum = self.deal(d,player_sum)\n",
    "                elif draw == 'no':\n",
    "                    break\n",
    "            return player_sum\n",
    "                \n",
    "\n",
    "        \n",
    "        #computer method\n",
    "        def computer_turn(self, d, comp_sum):\n",
    "            '''Continues to choose a new card\n",
    "            until the computer busts or the comp_sum becomes 17 or higher. It then returns the comp_sum.'''\n",
    "            print('computer ', end=\"\")\n",
    "            while comp_sum < 17:\n",
    "                comp_sum = self.deal(d,comp_sum)\n",
    "                if comp_sum >= 17 or self.check_bust(comp_sum) == True:\n",
    "                    return comp_sum\n",
    "            return comp_sum\n",
    "        \n",
    "        def find_winner(self, player_sum, comp_sum):\n",
    "            '''Prints Player Wins!, Computer Wins!, or Tie! based on a comparison of player_sum and comp_sum.'''\n",
    "            if self.check_bust(player_sum):\n",
    "                return \"Computer wins (player busted)\"\n",
    "            elif self.check_bust(comp_sum):\n",
    "                return \"player wins (comp busted)\"\n",
    "            elif player_sum >comp_sum:\n",
    "                return \"player wins\"\n",
    "            elif player_sum < comp_sum:\n",
    "                return \"comp wins\"\n",
    "            else:\n",
    "                return \"Tie\"\n",
    "            \n",
    "    \n",
    "        \n",
    "        def main(self):\n",
    "        \n",
    "            #create a runner class\n",
    "            game = Blackjack()\n",
    "            \n",
    "           \n",
    "            ranks = ['Two','Three','Four','Five','Six','Seven','Eight','Nine','Ten','Jack','Queen','King','Ace']\n",
    "            suits = ['Clubs', 'Diamonds', 'Hearts', 'Spades']\n",
    "            values = [2,3,4,5,6,7,8,9,10,10,10,10,11]\n",
    "            \n",
    "            \n",
    "            \n",
    "          \n",
    "            \n",
    "            \n",
    "            #create a deck object \n",
    "            d = Deck(ranks,suits,values)\n",
    "            #shuffle the deck\n",
    "           \n",
    "            d.shuffle()\n",
    "            \n",
    "            #initialize a player_sum and comp_sum to zero\n",
    "            player_sum = 0\n",
    "            comp_sum = 0\n",
    "            #deal the first four cards (alternating player/comp/player/comp)\n",
    "            for i in range(2):\n",
    "                print('player ',end = '')\n",
    "                player_sum = game.deal(d,player_sum)\n",
    "                print('computer ',end = '')\n",
    "                comp_sum = game.deal(d,comp_sum)\n",
    "            #let the player take their turn (meaning they can choose more cards until they choose to stop or bust)\n",
    "            player_sum = game.player_turn(d,player_sum)\n",
    "\n",
    "            #if the player's sum doesn't exactly equal to 21, let the computer take its turn (meaning it can choose more cards until it chooses to stop or bust)\n",
    "            if player_sum <= 21:\n",
    "                comp_sum = game.computer_turn(d,comp_sum)\n",
    "            #calculate who the winner is\n",
    "            print(game.find_winner(player_sum,comp_sum))\n",
    "        \n",
    "# run the main program\n",
    "if __name__ == '__main__':\n",
    "    Blackjack().main()"
   ]
  },
  {
   "cell_type": "code",
   "execution_count": null,
   "metadata": {},
   "outputs": [],
   "source": []
  }
 ],
 "metadata": {
  "kernelspec": {
   "display_name": "Python 3",
   "language": "python",
   "name": "python3"
  },
  "language_info": {
   "codemirror_mode": {
    "name": "ipython",
    "version": 3
   },
   "file_extension": ".py",
   "mimetype": "text/x-python",
   "name": "python",
   "nbconvert_exporter": "python",
   "pygments_lexer": "ipython3",
   "version": "3.7.0"
  }
 },
 "nbformat": 4,
 "nbformat_minor": 2
}
